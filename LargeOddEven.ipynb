{
  "nbformat": 4,
  "nbformat_minor": 0,
  "metadata": {
    "colab": {
      "provenance": [],
      "authorship_tag": "ABX9TyNGs6y0bhQPMnpj8GTHuXsu",
      "include_colab_link": true
    },
    "kernelspec": {
      "name": "python3",
      "display_name": "Python 3"
    },
    "language_info": {
      "name": "python"
    }
  },
  "cells": [
    {
      "cell_type": "markdown",
      "metadata": {
        "id": "view-in-github",
        "colab_type": "text"
      },
      "source": [
        "<a href=\"https://colab.research.google.com/github/Anushakirgeri/Python-programming/blob/Anushakirgeri-patch-1/LargeOddEven.ipynb\" target=\"_parent\"><img src=\"https://colab.research.google.com/assets/colab-badge.svg\" alt=\"Open In Colab\"/></a>"
      ]
    },
    {
      "cell_type": "code",
      "execution_count": null,
      "metadata": {
        "colab": {
          "base_uri": "https://localhost:8080/"
        },
        "id": "kVHdbZ_-Eehk",
        "outputId": "c2f76649-df3d-4475-decd-2770d898e57e"
      },
      "outputs": [
        {
          "output_type": "stream",
          "name": "stdout",
          "text": [
            "11\n"
          ]
        }
      ],
      "source": [
        "def sumofOddEven(S):\n",
        " \n",
        "  largestEven = 0\n",
        "  largestOdd = 0\n",
        "\n",
        "  for num in S:\n",
        "   num = int(num)\n",
        "   if(num % 2 == 0 and num > largestEven):\n",
        "      largestEven = num\n",
        "  \n",
        "   elif(num > largestOdd):\n",
        "      largestOdd = num\n",
        "     \n",
        "\n",
        "  print(largestEven + largestOdd)\n",
        "S=[0,3,5,0,6,0]\n",
        "sumofOddEven(S)\n"
      ]
    },
    {
      "cell_type": "markdown",
      "source": [],
      "metadata": {
        "id": "LFDjpoDvE7jJ"
      }
    },
    {
      "cell_type": "code",
      "source": [
        "def solution(S):\n",
        " num_a = S.count('a')\n",
        " print(\"No of A's:\", num_a)\n",
        " mod = 10^9+7\n",
        " #print(num_a)\n",
        " \n",
        " if num_a % 4 !=0:\n",
        "  return 0\n",
        " part_length = num_a//4 \n",
        " if num_a == 0:\n",
        "  size_of_b = S.count('b')\n",
        "  print(\"size of S\", size_of_b)\n",
        "  return (int)(((size_of_b-1)*(size_of_b-2)/2))\n",
        "\n",
        " count1=count2=count3=0\n",
        " \n",
        " a_count = 0\n",
        " for c in S:\n",
        "   if c == 'a':\n",
        "    a_count+=1\n",
        "   if a_count == part_length:\n",
        "        count1 += 1\n",
        "   elif a_count == 2*part_length:\n",
        "        count2 += 1\n",
        "   elif a_count == 3*part_length:\n",
        "        count3 +=1\n",
        " count_split = count1*count2*count3\n",
        " print(count_split)\n",
        "S=\"baabaab\" \n",
        "solution(S)\n",
        "   "
      ],
      "metadata": {
        "id": "AE0rTkuvjNWg",
        "colab": {
          "base_uri": "https://localhost:8080/"
        },
        "outputId": "5c33219b-ae0e-4552-d58e-f20b470a7a98"
      },
      "execution_count": null,
      "outputs": [
        {
          "output_type": "stream",
          "name": "stdout",
          "text": [
            "No of A's: 4\n",
            "2\n"
          ]
        }
      ]
    },
    {
      "cell_type": "code",
      "source": [
        "S = \"bbbbb\"\n",
        "'a' in S\n",
        "\n"
      ],
      "metadata": {
        "colab": {
          "base_uri": "https://localhost:8080/"
        },
        "id": "DybK5FOrAjA3",
        "outputId": "4068755a-de29-475a-ebc0-5f1af0ff9bfb"
      },
      "execution_count": null,
      "outputs": [
        {
          "output_type": "execute_result",
          "data": {
            "text/plain": [
              "False"
            ]
          },
          "metadata": {},
          "execution_count": 40
        }
      ]
    }
  ]
}